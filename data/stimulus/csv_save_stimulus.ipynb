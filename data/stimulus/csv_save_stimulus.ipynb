{
 "cells": [
  {
   "cell_type": "code",
   "execution_count": null,
   "metadata": {},
   "outputs": [],
   "source": [
    "import numpy as np\n",
    "import pandas as pd\n",
    "\n",
    "\n",
    "expertises = ['word','picture','video']\n",
    "\n",
    "\n",
    "for data_type in expertises:\n",
    "    data = np.load(f\"{data_type}.npy\")\n",
    "    label = np.load(f\"label.npy\")\n",
    "    start_index = 0\n",
    "    end_index =0\n",
    "    for i,index in enumerate(range(23)):\n",
    "        trial_index = np.zeros((7))\n",
    "        arr_1p = data[start_index:start_index+21]\n",
    "        label_1p = label[start_index:start_index+21]\n",
    "        start_index += 21\n",
    "\n",
    "        for j,arr_1t in enumerate(arr_1p):\n",
    "            arr_1t = pd.DataFrame(arr_1t)\n",
    "            trial = trial_index[label_1p[j]] +1\n",
    "            trial_index[label_1p[j]] = trial_index[label_1p[j]] +1 \n",
    "            arr_1t.to_csv(f\"csv/{data_type}/{i+1}_{label_1p[j]+1}_{int(trial)}.csv\")\n",
    "            "
   ]
  },
  {
   "cell_type": "code",
   "execution_count": 2,
   "metadata": {},
   "outputs": [
    {
     "data": {
      "text/plain": [
       "(483, 150, 57)"
      ]
     },
     "execution_count": 2,
     "metadata": {},
     "output_type": "execute_result"
    }
   ],
   "source": [
    "import numpy as np\n",
    "np.load(\"word.npy\").shape"
   ]
  }
 ],
 "metadata": {
  "kernelspec": {
   "display_name": "Python 3",
   "language": "python",
   "name": "python3"
  },
  "language_info": {
   "codemirror_mode": {
    "name": "ipython",
    "version": 3
   },
   "file_extension": ".py",
   "mimetype": "text/x-python",
   "name": "python",
   "nbconvert_exporter": "python",
   "pygments_lexer": "ipython3",
   "version": "3.12.4"
  }
 },
 "nbformat": 4,
 "nbformat_minor": 2
}
