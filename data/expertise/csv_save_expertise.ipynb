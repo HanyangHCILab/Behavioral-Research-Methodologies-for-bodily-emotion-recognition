{
 "cells": [
  {
   "cell_type": "code",
   "execution_count": null,
   "metadata": {},
   "outputs": [],
   "source": [
    "import numpy as np\n",
    "import pandas as pd\n",
    "\n",
    "\n",
    "expertises = ['nonactor','actor','test']\n",
    "\n",
    "\n",
    "for data_type in expertises:\n",
    "    data = np.load(f\"{data_type}.npy\")\n",
    "    label = np.load(f\"{data_type}_label.npy\")\n",
    "    start_index = 0\n",
    "    end_index =0\n",
    "    for i,index in enumerate(range(15)):\n",
    "        trial_index = np.zeros((7))\n",
    "        arr_1p = data[start_index:start_index+140]\n",
    "        label_1p = label[start_index:start_index+140]\n",
    "        start_index += 140\n",
    "\n",
    "        for j,arr_1t in enumerate(arr_1p):\n",
    "            arr_1t = pd.DataFrame(arr_1t)\n",
    "            trial = trial_index[label_1p[j]] +1\n",
    "            trial_index[label_1p[j]] = trial_index[label_1p[j]] +1 \n",
    "            arr_1t.to_csv(f\"csv/{data_type}/{i+1}_{label_1p[j]+1}_{int(trial)}.csv\")\n",
    "            "
   ]
  },
  {
   "cell_type": "code",
   "execution_count": 20,
   "metadata": {},
   "outputs": [
    {
     "data": {
      "text/plain": [
       "array([-0.2198582 ,  0.9173    ,  0.102164  , -0.2055607 ,  1.12833   ,\n",
       "        0.05497321, -0.1943665 ,  1.410591  ,  0.02518257, -0.1994534 ,\n",
       "        1.513649  ,  0.05671894, -0.2576599 ,  1.353811  ,  0.02759602,\n",
       "       -0.3829288 ,  1.358425  , -0.00379099, -0.4598808 ,  1.095488  ,\n",
       "        0.00286181, -0.5329647 ,  0.8459779 ,  0.09591675, -0.1356544 ,\n",
       "        1.349226  ,  0.02998815, -0.01095963,  1.34527   , -0.00368652,\n",
       "        0.05269623,  1.079597  ,  0.01794574,  0.06857491,  0.8281543 ,\n",
       "        0.130995  , -0.3130531 ,  0.8535378 ,  0.09974046, -0.3039188 ,\n",
       "        0.4489053 ,  0.06779517, -0.2716541 ,  0.03102386,  0.02821171,\n",
       "       -0.1307735 ,  0.8480067 ,  0.1064958 , -0.03729057,  0.4531858 ,\n",
       "        0.120952  ,  0.01902008,  0.0405618 ,  0.05928162])"
      ]
     },
     "execution_count": 20,
     "metadata": {},
     "output_type": "execute_result"
    }
   ],
   "source": [
    "arr[0][0]"
   ]
  }
 ],
 "metadata": {
  "kernelspec": {
   "display_name": "Python 3",
   "language": "python",
   "name": "python3"
  },
  "language_info": {
   "codemirror_mode": {
    "name": "ipython",
    "version": 3
   },
   "file_extension": ".py",
   "mimetype": "text/x-python",
   "name": "python",
   "nbconvert_exporter": "python",
   "pygments_lexer": "ipython3",
   "version": "3.12.4"
  }
 },
 "nbformat": 4,
 "nbformat_minor": 2
}
